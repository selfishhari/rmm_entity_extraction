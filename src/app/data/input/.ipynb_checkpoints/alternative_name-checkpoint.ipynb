{
 "cells": [
  {
   "cell_type": "code",
   "execution_count": 1,
   "metadata": {},
   "outputs": [],
   "source": [
    "import pandas as pd\n",
    "\n",
    "dataframes =pd.ExcelFile(\"Hari Mobile chatbot.xlsx\")\n",
    "telegram_question = pd.read_excel(dataframes, 'telegram question')\n",
    "alternative_name = pd.read_excel(dataframes, 'alternative name')"
   ]
  },
  {
   "cell_type": "code",
   "execution_count": 2,
   "metadata": {},
   "outputs": [
    {
     "data": {
      "text/html": [
       "<div>\n",
       "<style scoped>\n",
       "    .dataframe tbody tr th:only-of-type {\n",
       "        vertical-align: middle;\n",
       "    }\n",
       "\n",
       "    .dataframe tbody tr th {\n",
       "        vertical-align: top;\n",
       "    }\n",
       "\n",
       "    .dataframe thead th {\n",
       "        text-align: right;\n",
       "    }\n",
       "</style>\n",
       "<table border=\"1\" class=\"dataframe\">\n",
       "  <thead>\n",
       "    <tr style=\"text-align: right;\">\n",
       "      <th></th>\n",
       "      <th>brand</th>\n",
       "      <th>alt</th>\n",
       "    </tr>\n",
       "  </thead>\n",
       "  <tbody>\n",
       "    <tr>\n",
       "      <th>0</th>\n",
       "      <td>samsung</td>\n",
       "      <td>sm</td>\n",
       "    </tr>\n",
       "    <tr>\n",
       "      <th>1</th>\n",
       "      <td>motorola</td>\n",
       "      <td>moto</td>\n",
       "    </tr>\n",
       "    <tr>\n",
       "      <th>2</th>\n",
       "      <td>lyf</td>\n",
       "      <td>jio</td>\n",
       "    </tr>\n",
       "    <tr>\n",
       "      <th>3</th>\n",
       "      <td>huawei</td>\n",
       "      <td>honor</td>\n",
       "    </tr>\n",
       "    <tr>\n",
       "      <th>4</th>\n",
       "      <td>nokia</td>\n",
       "      <td>ta, rm</td>\n",
       "    </tr>\n",
       "  </tbody>\n",
       "</table>\n",
       "</div>"
      ],
      "text/plain": [
       "      brand     alt\n",
       "0   samsung      sm\n",
       "1  motorola    moto\n",
       "2       lyf     jio\n",
       "3    huawei   honor\n",
       "4     nokia  ta, rm"
      ]
     },
     "execution_count": 2,
     "metadata": {},
     "output_type": "execute_result"
    }
   ],
   "source": [
    "alternative_name.head()"
   ]
  },
  {
   "cell_type": "code",
   "execution_count": null,
   "metadata": {},
   "outputs": [],
   "source": []
  },
  {
   "cell_type": "code",
   "execution_count": 3,
   "metadata": {},
   "outputs": [
    {
     "data": {
      "text/plain": [
       "Index(['id', 'question ', 'brand ', 'Unnamed: 3', 'model ', 'Unnamed: 5',\n",
       "       'Unnamed: 6', 'Unnamed: 7', 'intent 1', 'intent 2 ', 'Unnamed: 10'],\n",
       "      dtype='object')"
      ]
     },
     "execution_count": 3,
     "metadata": {},
     "output_type": "execute_result"
    }
   ],
   "source": [
    "telegram_question.columns"
   ]
  },
  {
   "cell_type": "code",
   "execution_count": 4,
   "metadata": {},
   "outputs": [
    {
     "name": "stderr",
     "output_type": "stream",
     "text": [
      "/home/viky/anaconda3/lib/python3.7/site-packages/fuzzywuzzy/fuzz.py:11: UserWarning: Using slow pure-python SequenceMatcher. Install python-Levenshtein to remove this warning\n",
      "  warnings.warn('Using slow pure-python SequenceMatcher. Install python-Levenshtein to remove this warning')\n"
     ]
    }
   ],
   "source": [
    "from fuzzywuzzy import fuzz\n",
    "\n",
    "class SpellCheck:\n",
    "\n",
    "    def __init__(self, words_list):\n",
    "        self.data = words_list\n",
    "        \n",
    "        self.data = [i.lower() for i in self.data]\n",
    "        \n",
    "        self.data = set(self.data)\n",
    "        \n",
    "        self.dictionary = list(self.data)\n",
    "        \n",
    "    def check(self, string_to_check):\n",
    "        \n",
    "        self.string_to_check = string_to_check\n",
    "\n",
    "    def suggestions(self):\n",
    "\n",
    "        string_words = self.string_to_check.split()\n",
    "\n",
    "        suggestions = []\n",
    "\n",
    "        for i in range(len(string_words)):\n",
    "            \n",
    "            for name in self.dictionary:\n",
    "\n",
    "                if fuzz.ratio(string_words[i].lower(), name.lower()) >= 75:\n",
    "                    \n",
    "                    if string_words[i].lower() != name.lower():\n",
    "                        if name ==\"redmi\" or name == \"mi\":\n",
    "                            name = \"xiaomi\"\n",
    "                        suggestions.append({\"brand\":name.lower(),\"alt\":string_words[i].lower()})\n",
    "\n",
    "        return suggestions\n",
    "\n",
    "    def correct(self):\n",
    "\n",
    "        string_words = self.string_to_check.split()\n",
    "\n",
    "        for i in range(len(string_words)):\n",
    "            \n",
    "            max_percent = 0\n",
    "\n",
    "            for name in self.dictionary:\n",
    "\n",
    "                percent = fuzz.ratio(string_words[i].lower(), name.lower())\n",
    "\n",
    "                if percent >= 75:\n",
    "                    \n",
    "                    if percent > max_percent:\n",
    "                        \n",
    "                        string_words[i] = name\n",
    "                    \n",
    "                    max_percent = percent\n",
    "        \n",
    "        return \" \".join(string_words)"
   ]
  },
  {
   "cell_type": "code",
   "execution_count": 5,
   "metadata": {},
   "outputs": [],
   "source": [
    "all_list = []\n",
    "for index,row in telegram_question.iterrows():\n",
    "    words = (row['brand '].split(\"|\"))\n",
    "    string = (row['question '])\n",
    "    spell_check = SpellCheck(words)\n",
    "    spell_check.check(string)\n",
    "    all_list.extend(spell_check.alternate_match())"
   ]
  },
  {
   "cell_type": "code",
   "execution_count": 6,
   "metadata": {},
   "outputs": [],
   "source": [
    "ab = pd.DataFrame(all_list)\n",
    "ab = ab.drop_duplicates()\n",
    "ac = ab.groupby('brand')['alt'].apply(list)\n",
    "ad = ac.to_frame()\n",
    "ad = ad.reset_index()"
   ]
  },
  {
   "cell_type": "code",
   "execution_count": 7,
   "metadata": {},
   "outputs": [],
   "source": [
    "alternative_name['alt'] = alternative_name['alt'].apply(lambda x: x.split(','))\n",
    "ae = ad.merge(alternative_name,left_on='brand', right_on='brand')\n",
    "ae['alt']=ae['alt_x'] + ae['alt_y']\n",
    "ae = ae [['brand','alt']]\n",
    "ae['alt'] = ae['alt'].apply(lambda x: ', '.join(map(str, x)))"
   ]
  },
  {
   "cell_type": "code",
   "execution_count": 8,
   "metadata": {},
   "outputs": [],
   "source": [
    "af = pd.concat([ad, ae]).drop_duplicates(subset='brand',keep=False)\n",
    "af['alt'] = af['alt'].apply(lambda x: ', '.join(map(str, x)))\n",
    "ag = pd.concat([ae,af])\n",
    "ag = ag.reset_index()\n",
    "ag = ag[['brand','alt']]"
   ]
  },
  {
   "cell_type": "code",
   "execution_count": 9,
   "metadata": {},
   "outputs": [],
   "source": [
    "ah = pd.concat([alternative_name, ae]).drop_duplicates(subset='brand',keep=False)\n",
    "ah['alt'] = ah['alt'].apply(lambda x: ', '.join(map(str, x)))\n",
    "ai = pd.concat([ag,ah])\n",
    "ai = ai.reset_index()\n",
    "ai = ai[['brand','alt']]"
   ]
  },
  {
   "cell_type": "code",
   "execution_count": 10,
   "metadata": {},
   "outputs": [
    {
     "data": {
      "text/html": [
       "<div>\n",
       "<style scoped>\n",
       "    .dataframe tbody tr th:only-of-type {\n",
       "        vertical-align: middle;\n",
       "    }\n",
       "\n",
       "    .dataframe tbody tr th {\n",
       "        vertical-align: top;\n",
       "    }\n",
       "\n",
       "    .dataframe thead th {\n",
       "        text-align: right;\n",
       "    }\n",
       "</style>\n",
       "<table border=\"1\" class=\"dataframe\">\n",
       "  <thead>\n",
       "    <tr style=\"text-align: right;\">\n",
       "      <th></th>\n",
       "      <th>brand</th>\n",
       "      <th>alt</th>\n",
       "    </tr>\n",
       "  </thead>\n",
       "  <tbody>\n",
       "    <tr>\n",
       "      <th>0</th>\n",
       "      <td>nokia</td>\n",
       "      <td>nokai, kia, ta,  rm</td>\n",
       "    </tr>\n",
       "    <tr>\n",
       "      <th>1</th>\n",
       "      <td>oppo</td>\n",
       "      <td>aoppo, cph</td>\n",
       "    </tr>\n",
       "    <tr>\n",
       "      <th>2</th>\n",
       "      <td>samsung</td>\n",
       "      <td>salsun, sumsung, sm</td>\n",
       "    </tr>\n",
       "    <tr>\n",
       "      <th>3</th>\n",
       "      <td>xiaomi</td>\n",
       "      <td>mai, red, mui, mix, remix, mi4, mil, mi6, pmi,...</td>\n",
       "    </tr>\n",
       "    <tr>\n",
       "      <th>4</th>\n",
       "      <td>honor</td>\n",
       "      <td>hoo</td>\n",
       "    </tr>\n",
       "    <tr>\n",
       "      <th>5</th>\n",
       "      <td>infinix</td>\n",
       "      <td>infinex</td>\n",
       "    </tr>\n",
       "    <tr>\n",
       "      <th>6</th>\n",
       "      <td>karbonn</td>\n",
       "      <td>karbon</td>\n",
       "    </tr>\n",
       "    <tr>\n",
       "      <th>7</th>\n",
       "      <td>oneplus</td>\n",
       "      <td>oneplus5</td>\n",
       "    </tr>\n",
       "    <tr>\n",
       "      <th>8</th>\n",
       "      <td>realme</td>\n",
       "      <td>real, realme3, relame</td>\n",
       "    </tr>\n",
       "    <tr>\n",
       "      <th>9</th>\n",
       "      <td>sony</td>\n",
       "      <td>song</td>\n",
       "    </tr>\n",
       "    <tr>\n",
       "      <th>10</th>\n",
       "      <td>vivo</td>\n",
       "      <td>vivi</td>\n",
       "    </tr>\n",
       "    <tr>\n",
       "      <th>11</th>\n",
       "      <td>motorola</td>\n",
       "      <td>moto</td>\n",
       "    </tr>\n",
       "    <tr>\n",
       "      <th>12</th>\n",
       "      <td>lyf</td>\n",
       "      <td>jio</td>\n",
       "    </tr>\n",
       "    <tr>\n",
       "      <th>13</th>\n",
       "      <td>huawei</td>\n",
       "      <td>honor</td>\n",
       "    </tr>\n",
       "    <tr>\n",
       "      <th>14</th>\n",
       "      <td>realme</td>\n",
       "      <td>rmx</td>\n",
       "    </tr>\n",
       "    <tr>\n",
       "      <th>15</th>\n",
       "      <td>apple</td>\n",
       "      <td>iphone</td>\n",
       "    </tr>\n",
       "  </tbody>\n",
       "</table>\n",
       "</div>"
      ],
      "text/plain": [
       "       brand                                                alt\n",
       "0      nokia                                nokai, kia, ta,  rm\n",
       "1       oppo                                         aoppo, cph\n",
       "2    samsung                                salsun, sumsung, sm\n",
       "3     xiaomi  mai, red, mui, mix, remix, mi4, mil, mi6, pmi,...\n",
       "4      honor                                                hoo\n",
       "5    infinix                                            infinex\n",
       "6    karbonn                                             karbon\n",
       "7    oneplus                                           oneplus5\n",
       "8     realme                              real, realme3, relame\n",
       "9       sony                                               song\n",
       "10      vivo                                               vivi\n",
       "11  motorola                                               moto\n",
       "12       lyf                                                jio\n",
       "13    huawei                                              honor\n",
       "14   realme                                                 rmx\n",
       "15     apple                                             iphone"
      ]
     },
     "execution_count": 10,
     "metadata": {},
     "output_type": "execute_result"
    }
   ],
   "source": [
    "ai"
   ]
  },
  {
   "cell_type": "code",
   "execution_count": 11,
   "metadata": {},
   "outputs": [],
   "source": [
    "ai.to_csv(\"alternative_name.csv\",index=False)"
   ]
  },
  {
   "cell_type": "code",
   "execution_count": null,
   "metadata": {},
   "outputs": [],
   "source": []
  },
  {
   "cell_type": "code",
   "execution_count": null,
   "metadata": {},
   "outputs": [],
   "source": []
  }
 ],
 "metadata": {
  "kernelspec": {
   "display_name": "Python 3",
   "language": "python",
   "name": "python3"
  },
  "language_info": {
   "codemirror_mode": {
    "name": "ipython",
    "version": 3
   },
   "file_extension": ".py",
   "mimetype": "text/x-python",
   "name": "python",
   "nbconvert_exporter": "python",
   "pygments_lexer": "ipython3",
   "version": "3.7.4"
  }
 },
 "nbformat": 4,
 "nbformat_minor": 4
}
