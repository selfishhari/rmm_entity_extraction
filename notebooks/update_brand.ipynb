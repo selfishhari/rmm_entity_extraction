{
 "cells": [
  {
   "cell_type": "code",
   "execution_count": 1,
   "metadata": {},
   "outputs": [],
   "source": [
    "import pandas as pd\n",
    "import numpy as np\n",
    "from pandas import Series, DataFrame\n",
    "import datetime"
   ]
  },
  {
   "cell_type": "code",
   "execution_count": 2,
   "metadata": {},
   "outputs": [],
   "source": [
    "dataframes =pd.ExcelFile(\"Hari Mobile chatbot.xlsx\")"
   ]
  },
  {
   "cell_type": "code",
   "execution_count": 3,
   "metadata": {},
   "outputs": [
    {
     "data": {
      "text/plain": [
       "['telegram question', 'brand model', 'alternative name', 'question ', 'Sheet3']"
      ]
     },
     "execution_count": 3,
     "metadata": {},
     "output_type": "execute_result"
    }
   ],
   "source": [
    "dataframes.sheet_names"
   ]
  },
  {
   "cell_type": "code",
   "execution_count": 4,
   "metadata": {},
   "outputs": [],
   "source": [
    "telegram_question = pd.read_excel(dataframes, 'telegram question')\n",
    "brand_model = pd.read_excel(dataframes, 'brand model')\n",
    "alternative_name = pd.read_excel(dataframes, 'alternative name')\n",
    "question = pd.read_excel(dataframes, 'question ')\n",
    "sheet_3 = pd.read_excel(dataframes, 'Sheet3')"
   ]
  },
  {
   "cell_type": "code",
   "execution_count": 5,
   "metadata": {},
   "outputs": [
    {
     "data": {
      "text/html": [
       "<div>\n",
       "<style scoped>\n",
       "    .dataframe tbody tr th:only-of-type {\n",
       "        vertical-align: middle;\n",
       "    }\n",
       "\n",
       "    .dataframe tbody tr th {\n",
       "        vertical-align: top;\n",
       "    }\n",
       "\n",
       "    .dataframe thead th {\n",
       "        text-align: right;\n",
       "    }\n",
       "</style>\n",
       "<table border=\"1\" class=\"dataframe\">\n",
       "  <thead>\n",
       "    <tr style=\"text-align: right;\">\n",
       "      <th></th>\n",
       "      <th>id</th>\n",
       "      <th>question</th>\n",
       "      <th>brand</th>\n",
       "      <th>Unnamed: 3</th>\n",
       "      <th>model</th>\n",
       "      <th>Unnamed: 5</th>\n",
       "      <th>Unnamed: 6</th>\n",
       "      <th>Unnamed: 7</th>\n",
       "      <th>intent 1</th>\n",
       "      <th>intent 2</th>\n",
       "      <th>Unnamed: 10</th>\n",
       "    </tr>\n",
       "  </thead>\n",
       "  <tbody>\n",
       "    <tr>\n",
       "      <th>0</th>\n",
       "      <td>20026</td>\n",
       "      <td>schematic block of lenovo zuk z1</td>\n",
       "      <td>lenovo</td>\n",
       "      <td>NaN</td>\n",
       "      <td>zuk z1|z1</td>\n",
       "      <td>2</td>\n",
       "      <td>NaN</td>\n",
       "      <td>0</td>\n",
       "      <td>lock</td>\n",
       "      <td>unlock</td>\n",
       "      <td>1</td>\n",
       "    </tr>\n",
       "    <tr>\n",
       "      <th>1</th>\n",
       "      <td>14621</td>\n",
       "      <td>redmi 6pro ek hai local mobile shopise flash k...</td>\n",
       "      <td>redmi</td>\n",
       "      <td>NaN</td>\n",
       "      <td>zero|redmi 6|mi 6|le 2</td>\n",
       "      <td>4</td>\n",
       "      <td>NaN</td>\n",
       "      <td>0</td>\n",
       "      <td>flash</td>\n",
       "      <td>flash</td>\n",
       "      <td>1</td>\n",
       "    </tr>\n",
       "    <tr>\n",
       "      <th>2</th>\n",
       "      <td>13821</td>\n",
       "      <td>hi anyone with infinix zero 3 flash file i nee...</td>\n",
       "      <td>infinix</td>\n",
       "      <td>NaN</td>\n",
       "      <td>zero</td>\n",
       "      <td>1</td>\n",
       "      <td>NaN</td>\n",
       "      <td>0</td>\n",
       "      <td>flash</td>\n",
       "      <td>flash</td>\n",
       "      <td>1</td>\n",
       "    </tr>\n",
       "    <tr>\n",
       "      <th>3</th>\n",
       "      <td>15310</td>\n",
       "      <td>good morning anyone with infinix zero 3 flash ...</td>\n",
       "      <td>infinix</td>\n",
       "      <td>NaN</td>\n",
       "      <td>zero</td>\n",
       "      <td>1</td>\n",
       "      <td>NaN</td>\n",
       "      <td>0</td>\n",
       "      <td>flash</td>\n",
       "      <td>flash</td>\n",
       "      <td>1</td>\n",
       "    </tr>\n",
       "    <tr>\n",
       "      <th>4</th>\n",
       "      <td>18336</td>\n",
       "      <td>moto c plus when power button press it shows r...</td>\n",
       "      <td>moto</td>\n",
       "      <td>NaN</td>\n",
       "      <td>zero</td>\n",
       "      <td>1</td>\n",
       "      <td>NaN</td>\n",
       "      <td>0</td>\n",
       "      <td>NaN</td>\n",
       "      <td>NaN</td>\n",
       "      <td>0</td>\n",
       "    </tr>\n",
       "  </tbody>\n",
       "</table>\n",
       "</div>"
      ],
      "text/plain": [
       "      id                                          question    brand   \\\n",
       "0  20026                   schematic block of lenovo zuk z1   lenovo   \n",
       "1  14621  redmi 6pro ek hai local mobile shopise flash k...    redmi   \n",
       "2  13821  hi anyone with infinix zero 3 flash file i nee...  infinix   \n",
       "3  15310  good morning anyone with infinix zero 3 flash ...  infinix   \n",
       "4  18336  moto c plus when power button press it shows r...     moto   \n",
       "\n",
       "  Unnamed: 3                  model  Unnamed: 5 Unnamed: 6 Unnamed: 7  \\\n",
       "0        NaN               zuk z1|z1          2        NaN          0   \n",
       "1        NaN  zero|redmi 6|mi 6|le 2          4        NaN          0   \n",
       "2        NaN                    zero          1        NaN          0   \n",
       "3        NaN                    zero          1        NaN          0   \n",
       "4        NaN                    zero          1        NaN          0   \n",
       "\n",
       "  intent 1 intent 2  Unnamed: 10  \n",
       "0     lock    unlock           1  \n",
       "1    flash     flash           1  \n",
       "2    flash     flash           1  \n",
       "3    flash     flash           1  \n",
       "4      NaN       NaN           0  "
      ]
     },
     "execution_count": 5,
     "metadata": {},
     "output_type": "execute_result"
    }
   ],
   "source": [
    "telegram_question.head()"
   ]
  },
  {
   "cell_type": "code",
   "execution_count": 6,
   "metadata": {},
   "outputs": [
    {
     "data": {
      "text/html": [
       "<div>\n",
       "<style scoped>\n",
       "    .dataframe tbody tr th:only-of-type {\n",
       "        vertical-align: middle;\n",
       "    }\n",
       "\n",
       "    .dataframe tbody tr th {\n",
       "        vertical-align: top;\n",
       "    }\n",
       "\n",
       "    .dataframe thead th {\n",
       "        text-align: right;\n",
       "    }\n",
       "</style>\n",
       "<table border=\"1\" class=\"dataframe\">\n",
       "  <thead>\n",
       "    <tr style=\"text-align: right;\">\n",
       "      <th></th>\n",
       "      <th>id</th>\n",
       "      <th>question</th>\n",
       "      <th>brand</th>\n",
       "      <th>Unnamed: 3</th>\n",
       "      <th>model</th>\n",
       "      <th>Unnamed: 5</th>\n",
       "      <th>Unnamed: 6</th>\n",
       "      <th>Unnamed: 7</th>\n",
       "      <th>intent 1</th>\n",
       "      <th>intent 2</th>\n",
       "      <th>Unnamed: 10</th>\n",
       "    </tr>\n",
       "  </thead>\n",
       "  <tbody>\n",
       "    <tr>\n",
       "      <th>5680</th>\n",
       "      <td>14065</td>\n",
       "      <td>lenovo 1902 3 tested flash file pls help</td>\n",
       "      <td>lenovo</td>\n",
       "      <td>NaN</td>\n",
       "      <td>1902-03-01 00:00:00</td>\n",
       "      <td>0</td>\n",
       "      <td>NaN</td>\n",
       "      <td>0</td>\n",
       "      <td>flash</td>\n",
       "      <td>flash</td>\n",
       "      <td>1</td>\n",
       "    </tr>\n",
       "  </tbody>\n",
       "</table>\n",
       "</div>"
      ],
      "text/plain": [
       "         id                                 question   brand  Unnamed: 3  \\\n",
       "5680  14065  lenovo 1902 3 tested flash file pls help  lenovo        NaN   \n",
       "\n",
       "                   model  Unnamed: 5 Unnamed: 6 Unnamed: 7 intent 1 intent 2   \\\n",
       "5680  1902-03-01 00:00:00          0        NaN          0    flash     flash   \n",
       "\n",
       "     Unnamed: 10  \n",
       "5680           1  "
      ]
     },
     "execution_count": 6,
     "metadata": {},
     "output_type": "execute_result"
    }
   ],
   "source": [
    "telegram_question.loc[telegram_question['id'] == 14065]"
   ]
  },
  {
   "cell_type": "code",
   "execution_count": 7,
   "metadata": {},
   "outputs": [],
   "source": [
    "telegram_question_extract = telegram_question[['brand ','model ','id']]"
   ]
  },
  {
   "cell_type": "code",
   "execution_count": 8,
   "metadata": {},
   "outputs": [
    {
     "data": {
      "text/html": [
       "<div>\n",
       "<style scoped>\n",
       "    .dataframe tbody tr th:only-of-type {\n",
       "        vertical-align: middle;\n",
       "    }\n",
       "\n",
       "    .dataframe tbody tr th {\n",
       "        vertical-align: top;\n",
       "    }\n",
       "\n",
       "    .dataframe thead th {\n",
       "        text-align: right;\n",
       "    }\n",
       "</style>\n",
       "<table border=\"1\" class=\"dataframe\">\n",
       "  <thead>\n",
       "    <tr style=\"text-align: right;\">\n",
       "      <th></th>\n",
       "      <th>brand</th>\n",
       "      <th>model</th>\n",
       "      <th>id</th>\n",
       "    </tr>\n",
       "  </thead>\n",
       "  <tbody>\n",
       "    <tr>\n",
       "      <th>5680</th>\n",
       "      <td>lenovo</td>\n",
       "      <td>1902-03-01 00:00:00</td>\n",
       "      <td>14065</td>\n",
       "    </tr>\n",
       "  </tbody>\n",
       "</table>\n",
       "</div>"
      ],
      "text/plain": [
       "      brand                model      id\n",
       "5680  lenovo  1902-03-01 00:00:00  14065"
      ]
     },
     "execution_count": 8,
     "metadata": {},
     "output_type": "execute_result"
    }
   ],
   "source": [
    "telegram_question_extract.loc[telegram_question_extract['id'] == 14065]"
   ]
  },
  {
   "cell_type": "code",
   "execution_count": 48,
   "metadata": {},
   "outputs": [],
   "source": [
    "def expand_brand_models(dataframe):\n",
    "    \n",
    "    for index, row in dataframe.iterrows():\n",
    "        if type(row['model ']) == datetime.datetime:\n",
    "            dataframe.drop(index, inplace=True)\n",
    "    \n",
    "    brand_split = pd.concat([Series(row['model '], str(row['brand ']).split('|'))              \n",
    "                    for _, row in dataframe.iterrows()]).reset_index()\n",
    "    \n",
    "    brand_split.rename(columns = {'index':'brand',0:'model'}, inplace = True)\n",
    "    \n",
    "    \n",
    "    \n",
    "    model_split = pd.concat([Series(row['brand'], str(row['model']).split('|'))              \n",
    "                         for _, row in brand_split.iterrows()]).reset_index()\n",
    "    \n",
    "    model_split.rename(columns = {'index':'models',0:'brand'}, inplace = True)\n",
    "    \n",
    "    model_split = model_split.drop_duplicates()\n",
    "    \n",
    "    model_split.dropna()\n",
    "    \n",
    "    return model_split\n",
    "    "
   ]
  },
  {
   "cell_type": "code",
   "execution_count": 49,
   "metadata": {},
   "outputs": [],
   "source": [
    "models_extracted = expand_brand_models(telegram_question_extract)"
   ]
  },
  {
   "cell_type": "code",
   "execution_count": 63,
   "metadata": {},
   "outputs": [],
   "source": [
    "def concat_brands_models(existing, extracted):\n",
    "    all_models = pd.concat([extracted,existing])\n",
    "    all_models = all_models.drop_duplicates()\n",
    "    return all_models"
   ]
  },
  {
   "cell_type": "code",
   "execution_count": 55,
   "metadata": {},
   "outputs": [
    {
     "data": {
      "text/plain": [
       "(1711, 2)"
      ]
     },
     "execution_count": 55,
     "metadata": {},
     "output_type": "execute_result"
    }
   ],
   "source": [
    "models_extracted.shape"
   ]
  },
  {
   "cell_type": "code",
   "execution_count": 54,
   "metadata": {},
   "outputs": [
    {
     "data": {
      "text/plain": [
       "(7625, 2)"
      ]
     },
     "execution_count": 54,
     "metadata": {},
     "output_type": "execute_result"
    }
   ],
   "source": [
    "brand_model.shape"
   ]
  },
  {
   "cell_type": "code",
   "execution_count": 65,
   "metadata": {},
   "outputs": [
    {
     "name": "stderr",
     "output_type": "stream",
     "text": [
      "/home/viky/anaconda3/lib/python3.7/site-packages/ipykernel_launcher.py:2: FutureWarning: Sorting because non-concatenation axis is not aligned. A future version\n",
      "of pandas will change to not sort by default.\n",
      "\n",
      "To accept the future behavior, pass 'sort=False'.\n",
      "\n",
      "To retain the current behavior and silence the warning, pass 'sort=True'.\n",
      "\n",
      "  \n"
     ]
    },
    {
     "data": {
      "text/plain": [
       "(9098, 2)"
      ]
     },
     "execution_count": 65,
     "metadata": {},
     "output_type": "execute_result"
    }
   ],
   "source": [
    "all_models = concat_brands_models(models_extracted,brand_model)\n",
    "all_models.shape"
   ]
  },
  {
   "cell_type": "code",
   "execution_count": null,
   "metadata": {},
   "outputs": [],
   "source": []
  },
  {
   "cell_type": "code",
   "execution_count": 43,
   "metadata": {},
   "outputs": [],
   "source": [
    "# import openpyxl\n",
    "# with pd.ExcelWriter(path) as writer:\n",
    "#     writer.book = openpyxl.load_workbook(path)\n",
    "#     model_split.to_excel(writer, sheet_name='brand model')\n",
    "#     writer.save()"
   ]
  },
  {
   "cell_type": "code",
   "execution_count": 21,
   "metadata": {},
   "outputs": [],
   "source": [
    "# import pandas\n",
    "# from openpyxl import load_workbook\n",
    "\n",
    "# with pandas.ExcelWriter('temp.xlsx', engine='openpyxl') as writer:\n",
    "#     writer.book = load_workbook('temp.xlsx')\n",
    "#     model_split.to_excel(writer, \"brand model\")"
   ]
  },
  {
   "cell_type": "code",
   "execution_count": null,
   "metadata": {},
   "outputs": [],
   "source": []
  }
 ],
 "metadata": {
  "kernelspec": {
   "display_name": "Python 3",
   "language": "python",
   "name": "python3"
  },
  "language_info": {
   "codemirror_mode": {
    "name": "ipython",
    "version": 3
   },
   "file_extension": ".py",
   "mimetype": "text/x-python",
   "name": "python",
   "nbconvert_exporter": "python",
   "pygments_lexer": "ipython3",
   "version": "3.7.4"
  }
 },
 "nbformat": 4,
 "nbformat_minor": 4
}
