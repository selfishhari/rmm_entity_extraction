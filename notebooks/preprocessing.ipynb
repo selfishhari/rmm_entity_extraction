{
 "cells": [
  {
   "cell_type": "code",
   "execution_count": 1,
   "metadata": {},
   "outputs": [],
   "source": [
    "from nltk.tokenize import word_tokenize\n",
    "from nltk.corpus import stopwords\n",
    "import re\n",
    "import json\n",
    "import pandas as pd\n",
    "import numpy as np"
   ]
  },
  {
   "cell_type": "code",
   "execution_count": 2,
   "metadata": {},
   "outputs": [],
   "source": [
    "dataframes =pd.ExcelFile(\"Hari Mobile chatbot.xlsx\")\n",
    "telegram_question = pd.read_excel(dataframes, 'telegram question')\n",
    "brand_model = pd.read_excel(dataframes, 'brand model')\n",
    "alternative_name = pd.read_excel(dataframes, 'alternative name')\n",
    "question = pd.read_excel(dataframes, 'question ')\n",
    "sheet_3 = pd.read_excel(dataframes, 'Sheet3')"
   ]
  },
  {
   "cell_type": "code",
   "execution_count": 3,
   "metadata": {},
   "outputs": [
    {
     "data": {
      "text/html": [
       "<div>\n",
       "<style scoped>\n",
       "    .dataframe tbody tr th:only-of-type {\n",
       "        vertical-align: middle;\n",
       "    }\n",
       "\n",
       "    .dataframe tbody tr th {\n",
       "        vertical-align: top;\n",
       "    }\n",
       "\n",
       "    .dataframe thead th {\n",
       "        text-align: right;\n",
       "    }\n",
       "</style>\n",
       "<table border=\"1\" class=\"dataframe\">\n",
       "  <thead>\n",
       "    <tr style=\"text-align: right;\">\n",
       "      <th></th>\n",
       "      <th>brand</th>\n",
       "      <th>models</th>\n",
       "    </tr>\n",
       "  </thead>\n",
       "  <tbody>\n",
       "    <tr>\n",
       "      <th>0</th>\n",
       "      <td>acer</td>\n",
       "      <td>liquid e3</td>\n",
       "    </tr>\n",
       "    <tr>\n",
       "      <th>1</th>\n",
       "      <td>acer</td>\n",
       "      <td>liquid z4</td>\n",
       "    </tr>\n",
       "    <tr>\n",
       "      <th>2</th>\n",
       "      <td>acer</td>\n",
       "      <td>iconia b1-721</td>\n",
       "    </tr>\n",
       "    <tr>\n",
       "      <th>3</th>\n",
       "      <td>acer</td>\n",
       "      <td>iconia b1-720</td>\n",
       "    </tr>\n",
       "    <tr>\n",
       "      <th>4</th>\n",
       "      <td>acer</td>\n",
       "      <td>iconia a1-830</td>\n",
       "    </tr>\n",
       "  </tbody>\n",
       "</table>\n",
       "</div>"
      ],
      "text/plain": [
       "  brand         models\n",
       "0  acer      liquid e3\n",
       "1  acer      liquid z4\n",
       "2  acer  iconia b1-721\n",
       "3  acer  iconia b1-720\n",
       "4  acer  iconia a1-830"
      ]
     },
     "execution_count": 3,
     "metadata": {},
     "output_type": "execute_result"
    }
   ],
   "source": [
    "brand_model.head()"
   ]
  },
  {
   "cell_type": "code",
   "execution_count": 4,
   "metadata": {},
   "outputs": [],
   "source": [
    "with open('rest_input.json') as f:\n",
    "    data = json.load(f,strict=False)"
   ]
  },
  {
   "cell_type": "code",
   "execution_count": 36,
   "metadata": {},
   "outputs": [
    {
     "data": {
      "text/plain": [
       "'SAMSUNG FRP WORLDWIDE INSTANT 24/7✅\\nHUAWEI FRP INSTANT GOOD PRICE✅\\nSAMSUNG CPID IMEI REPAIR INSTANT✅\\nSAMSUNG NOTE 10 NOTE 10+ S10 S10+ s20 NOTE 9 A10 A20 A50 ALL MODEL REMOTE UNLOCK INSTANT✅\\nICLOUD BYPASS GSM IPHONE BY IMEI INSTANT✅\\nSTABLE SERVICE GOOD PRICE🔛\\nWHATSAPP/VIBER/TELEGRAM:+8801914262512'"
      ]
     },
     "execution_count": 36,
     "metadata": {},
     "output_type": "execute_result"
    }
   ],
   "source": [
    "data['text']"
   ]
  },
  {
   "cell_type": "code",
   "execution_count": 5,
   "metadata": {},
   "outputs": [],
   "source": [
    "import  string\n",
    "def pre_processing(string_1):\n",
    "    string_1 = re.sub(\"(?P<url>https?://[^\\s]+)\",\"\", string_1)\n",
    "    string_1 = string_1.lower()\n",
    "    string_1= string_1.replace(\"\\n\", \" \")\n",
    "    string_1 = string_1.translate ({ord(c): \" \" for c in \"!@#$%^&*()[]{};:,./<>?\\|`~=_\"})\n",
    "    string_1 = \" \".join(string_1.split())\n",
    "    printable = set(string.printable)\n",
    "    string_1 = ''.join(filter(lambda x: x in printable, string_1))\n",
    "    return string_1"
   ]
  },
  {
   "cell_type": "code",
   "execution_count": 6,
   "metadata": {},
   "outputs": [],
   "source": [
    "def stop_words_removal(pre_processed_text):\n",
    "    stop_words = set(stopwords.words('english')) \n",
    "    word_tokens = word_tokenize(pre_processed_text) \n",
    "    filtered_tokens = [w for w in word_tokens if not w in stop_words]\n",
    "    return filtered_tokens\n"
   ]
  },
  {
   "cell_type": "code",
   "execution_count": 13,
   "metadata": {},
   "outputs": [],
   "source": [
    "def _search_alt_brand_name(x_list):\n",
    "    alternative_name_copy = alternative_name.copy()\n",
    "    alternative_name_copy['alt'] = alternative_name_copy['alt'].apply(lambda x: str(x).split(\",\"))\n",
    "    alt_name = alternative_name_copy.set_index('brand')['alt'].to_dict()\n",
    "    brand_name = []\n",
    "    for item in x_list:\n",
    "        for key, value in alt_name.items():\n",
    "            if item.strip() in value:\n",
    "                brand_name.append(key)\n",
    "    return brand_name\n",
    "    \n",
    "    "
   ]
  },
  {
   "cell_type": "code",
   "execution_count": 14,
   "metadata": {},
   "outputs": [],
   "source": [
    "def _search_items(items_list, x_list, exact_search=True):\n",
    "    items = []\n",
    "    for item in items_list:\n",
    "        if (exact_search == True) | (len(item)<4):\n",
    "            for w in x_list:\n",
    "                if item == w.strip():\n",
    "                    items += [item]\n",
    "                    #break;\n",
    "        else:\n",
    "            if item in x:\n",
    "                items += [item]\n",
    "    alt_names = _search_alt_brand_name(x_list)\n",
    "    items.extend(alt_names)\n",
    "    items = list(set(items)) #removing duplicates\n",
    "    if \"\" in items:\n",
    "        items.remove(\"\")\n",
    "        if items == None:\n",
    "            items = []\n",
    "    return items"
   ]
  },
  {
   "cell_type": "code",
   "execution_count": 37,
   "metadata": {},
   "outputs": [],
   "source": [
    "pre_processed_text = pre_processing(data['text'])"
   ]
  },
  {
   "cell_type": "code",
   "execution_count": 38,
   "metadata": {},
   "outputs": [],
   "source": [
    "pre_txt_2 = \"sm\""
   ]
  },
  {
   "cell_type": "code",
   "execution_count": 39,
   "metadata": {},
   "outputs": [],
   "source": [
    "pre_txt = \"good job nhi hai bus group me santi thi es liye lava z61 totally dead fixed software se sp flash tool problam all risk your frist read all proses vivo y19 unlock remotly free\""
   ]
  },
  {
   "cell_type": "code",
   "execution_count": 40,
   "metadata": {},
   "outputs": [],
   "source": [
    "tokens = stop_words_removal(pre_processed_text)"
   ]
  },
  {
   "cell_type": "code",
   "execution_count": 41,
   "metadata": {},
   "outputs": [],
   "source": [
    "all_brands = brand_model['brand'].str.lower().unique().tolist()"
   ]
  },
  {
   "cell_type": "code",
   "execution_count": 42,
   "metadata": {},
   "outputs": [
    {
     "data": {
      "text/plain": [
       "['huawei', 'apple', 'samsung']"
      ]
     },
     "execution_count": 42,
     "metadata": {},
     "output_type": "execute_result"
    }
   ],
   "source": [
    "_search_items(all_brands,tokens)"
   ]
  },
  {
   "cell_type": "code",
   "execution_count": null,
   "metadata": {},
   "outputs": [],
   "source": []
  },
  {
   "cell_type": "code",
   "execution_count": null,
   "metadata": {},
   "outputs": [],
   "source": []
  },
  {
   "cell_type": "code",
   "execution_count": null,
   "metadata": {},
   "outputs": [],
   "source": []
  },
  {
   "cell_type": "code",
   "execution_count": null,
   "metadata": {},
   "outputs": [],
   "source": []
  },
  {
   "cell_type": "code",
   "execution_count": null,
   "metadata": {},
   "outputs": [],
   "source": []
  },
  {
   "cell_type": "code",
   "execution_count": null,
   "metadata": {},
   "outputs": [],
   "source": []
  },
  {
   "cell_type": "code",
   "execution_count": null,
   "metadata": {},
   "outputs": [],
   "source": []
  },
  {
   "cell_type": "code",
   "execution_count": null,
   "metadata": {},
   "outputs": [],
   "source": []
  }
 ],
 "metadata": {
  "kernelspec": {
   "display_name": "Python 3",
   "language": "python",
   "name": "python3"
  },
  "language_info": {
   "codemirror_mode": {
    "name": "ipython",
    "version": 3
   },
   "file_extension": ".py",
   "mimetype": "text/x-python",
   "name": "python",
   "nbconvert_exporter": "python",
   "pygments_lexer": "ipython3",
   "version": "3.7.4"
  }
 },
 "nbformat": 4,
 "nbformat_minor": 4
}
